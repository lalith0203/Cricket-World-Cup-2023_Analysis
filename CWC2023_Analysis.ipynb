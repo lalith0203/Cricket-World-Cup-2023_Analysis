{
  "cells": [
    {
      "cell_type": "markdown",
      "metadata": {
        "colab_type": "text",
        "id": "view-in-github"
      },
      "source": [
        "<a href=\"https://colab.research.google.com/github/lalith0203/Cricket-World-Cup-2023_Analysis/blob/main/CWC2023_Analysis.ipynb\" target=\"_parent\"><img src=\"https://colab.research.google.com/assets/colab-badge.svg\" alt=\"Open In Colab\"/></a>"
      ]
    },
    {
      "cell_type": "code",
      "execution_count": null,
      "metadata": {
        "colab": {
          "base_uri": "https://localhost:8080/"
        },
        "id": "vFnea9cGzdzB",
        "outputId": "0ea87c7f-6736-456b-a8f4-42ff6f762e86"
      },
      "outputs": [],
      "source": [
        "import pandas as pd\n",
        "df=pd.read_csv(\"CWC2023.csv\")\n",
        "df.info()"
      ]
    },
    {
      "cell_type": "code",
      "execution_count": null,
      "metadata": {
        "colab": {
          "base_uri": "https://localhost:8080/",
          "height": 261
        },
        "id": "EenOigb71CRN",
        "outputId": "e1006c05-a72a-4bd3-8169-5f328757d0bb"
      },
      "outputs": [],
      "source": [
        "df.head()"
      ]
    },
    {
      "cell_type": "code",
      "execution_count": null,
      "metadata": {
        "colab": {
          "base_uri": "https://localhost:8080/",
          "height": 626
        },
        "id": "EXCXKi7M1Gpa",
        "outputId": "c20bd862-1099-43ee-9817-48ff1d6563e2"
      },
      "outputs": [],
      "source": [
        "df1=df[['Team_1','Toss']]\n",
        "df1.head()"
      ]
    },
    {
      "cell_type": "code",
      "execution_count": null,
      "metadata": {
        "colab": {
          "base_uri": "https://localhost:8080/"
        },
        "id": "aBX5-Ia41WAe",
        "outputId": "88f53756-9f2f-4b1c-db36-857ded094e5b"
      },
      "outputs": [],
      "source": [
        "mean_values=df.mean()\n",
        "print(\"Mean:\")\n",
        "print(mean_values)"
      ]
    },
    {
      "cell_type": "code",
      "execution_count": null,
      "metadata": {
        "colab": {
          "base_uri": "https://localhost:8080/"
        },
        "id": "YGOSGKkw1bmj",
        "outputId": "ba1efd0a-998f-4b38-8cb9-19324df9bc98"
      },
      "outputs": [],
      "source": [
        "selected_coloumn='Innings1_Balls'\n",
        "mean_value1=df[selected_coloumn].mean()\n",
        "print(mean_value1)\n",
        "median_value=df[selected_coloumn].median()\n",
        "print(median_value)\n",
        "std_value=df[selected_coloumn].std()\n",
        "print(std_value)"
      ]
    },
    {
      "cell_type": "code",
      "execution_count": null,
      "metadata": {
        "colab": {
          "base_uri": "https://localhost:8080/"
        },
        "id": "4ms9WXIa12s6",
        "outputId": "930b7d1c-35ae-44fa-cca9-8fcbca5918f6"
      },
      "outputs": [],
      "source": [
        "condition=df['Innings2_Balls']>180\n",
        "filtered_df=df[condition]\n",
        "print(filtered_df)"
      ]
    },
    {
      "cell_type": "code",
      "execution_count": null,
      "metadata": {
        "colab": {
          "base_uri": "https://localhost:8080/",
          "height": 297
        },
        "id": "VIScB18C2MgI",
        "outputId": "1dd0b6c0-84b1-43b9-e5ac-3448dbaf1856"
      },
      "outputs": [],
      "source": [
        "import matplotlib.pyplot as plt\n",
        "import pandas as pd\n",
        "import seaborn as sns\n",
        "df=pd.read_csv(\"CWC2023.csv\")\n",
        "plt.figure(figsize=(20,5))\n",
        "sns.scatterplot(x='Innings1_Balls',y='Innings2_Balls',data=df.head(6))\n",
        "plt.show()"
      ]
    },
    {
      "cell_type": "code",
      "execution_count": null,
      "metadata": {
        "colab": {
          "base_uri": "https://localhost:8080/",
          "height": 860
        },
        "id": "z8u5eqv02Yze",
        "outputId": "246df58d-ef14-4857-835b-b3b2e188bfda"
      },
      "outputs": [],
      "source": [
        "import matplotlib.pyplot as plt\n",
        "import seaborn as sns\n",
        "import pandas as pd\n",
        "df=pd.read_csv(\"CWC2023.csv\")\n",
        "plt.figure(figsize=(12,8))\n",
        "sns.heatmap(df.corr(),annot=True,cmap='coolwarm',fmt='.2f')\n",
        "plt.title('Correlation Heatmap')\n",
        "plt.show()"
      ]
    },
    {
      "cell_type": "code",
      "execution_count": null,
      "metadata": {
        "colab": {
          "base_uri": "https://localhost:8080/",
          "height": 564
        },
        "id": "3vLRwD5U2g34",
        "outputId": "bbea7a06-8c78-451d-d9ae-8156a53ed286"
      },
      "outputs": [],
      "source": [
        "import matplotlib.pyplot as plt\n",
        "import seaborn as sns\n",
        "import pandas as pd\n",
        "df=pd.read_csv(\"CWC2023.csv\")\n",
        "selected_coloumn='Innings2_Balls'\n",
        "plt.figure(figsize=(10,6))\n",
        "sns.histplot(df[selected_coloumn], bins=12,kde=True, color='orange')\n",
        "plt.title(f'Histogram for {selected_coloumn}')\n",
        "plt.xlabel(selected_coloumn)\n",
        "plt.ylabel('Frequency')\n",
        "plt.show()"
      ]
    },
    {
      "cell_type": "code",
      "execution_count": null,
      "metadata": {
        "colab": {
          "base_uri": "https://localhost:8080/"
        },
        "id": "0BsaIUmS27IO",
        "outputId": "a10a8756-067b-42a6-a0b0-3060c07616ec"
      },
      "outputs": [],
      "source": [
        "import matplotlib.pyplot as plt\n",
        "import seaborn as sns\n",
        "import pandas as pd\n",
        "df=pd.read_csv(\"CWC2023.csv\")\n",
        "print(\"Number of missing values in each column:\")\n",
        "print(df.isnull().sum())"
      ]
    },
    {
      "cell_type": "code",
      "execution_count": null,
      "metadata": {
        "colab": {
          "base_uri": "https://localhost:8080/",
          "height": 1923
        },
        "id": "W9amNogM3Dvp",
        "outputId": "6128cc86-43a6-4248-cb7f-3a2fc9156dde"
      },
      "outputs": [],
      "source": [
        "import matplotlib.pyplot as plt\n",
        "import seaborn as sns\n",
        "import pandas as pd\n",
        "df=pd.read_csv(\"CWC2023.csv\")\n",
        "df_filled=df.fillna(df.mean())\n",
        "df_no_duplicates=df_filled.drop_duplicates()\n",
        "df_no_duplicates"
      ]
    }
  ],
  "metadata": {
    "colab": {
      "authorship_tag": "ABX9TyMI6QUUywUoHhs3uLSR5ePh",
      "include_colab_link": true,
      "provenance": []
    },
    "kernelspec": {
      "display_name": "Python 3",
      "name": "python3"
    },
    "language_info": {
      "name": "python"
    }
  },
  "nbformat": 4,
  "nbformat_minor": 0
}
